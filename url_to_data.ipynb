{
 "cells": [
  {
   "cell_type": "code",
   "execution_count": 36,
   "metadata": {},
   "outputs": [],
   "source": [
    "import numpy as np\n",
    "import pandas as pd\n",
    "import re\n",
    "import csv\n",
    "import tldextract\n",
    "import torch\n",
    "from src.NeuralNetwork import NeuralNetwork\n",
    "\n",
    "email_pattern = r\"[a-zA-Z0-9._%+-]+@[a-zA-Z0-9.-]+\\.[a-zA-Z]{2,}\"\n",
    "device = torch.device(\"cuda\" if torch.cuda.is_available() else \"cpu\")\n"
   ]
  },
  {
   "cell_type": "code",
   "execution_count": 37,
   "metadata": {},
   "outputs": [],
   "source": [
    "def extract_data(url):\n",
    "    pass\n",
    "url = \"https://news.ycombinator.com/news\"\n",
    "tldinfo = tldextract.extract(url)"
   ]
  },
  {
   "cell_type": "code",
   "execution_count": 38,
   "metadata": {},
   "outputs": [],
   "source": [
    "output = np.ndarray(20)\n",
    "output[0] = url.count(\".\")\n",
    "output[1] = url.count(\"-\")\n",
    "output[2] = url.count(\"_\")\n",
    "output[3] = url.count(\"/\")\n",
    "output[4] = url.count(\"?\")\n",
    "output[5] = url.count(\"=\")\n",
    "output[6] = url.count(\"@\")\n",
    "output[7] = url.count(\"&\")\n",
    "output[8] = url.count(\"!\")\n",
    "output[9] = url.count(\" \")\n",
    "output[10] = url.count(\"~\")\n",
    "output[11] = url.count(\",\")\n",
    "output[12] = url.count(\"+\")\n",
    "output[13] = url.count(\"*\")\n",
    "output[14] = url.count(\"#\")\n",
    "output[15] = url.count(\"$\")\n",
    "output[16] = url.count(\"%\")\n",
    "output[17] = len(tldinfo.suffix)\n",
    "output[18] = len(url)\n",
    "output[19] = 1 if bool(re.search(email_pattern, url)) else 0\n",
    "\n",
    "m_input = output"
   ]
  },
  {
   "cell_type": "code",
   "execution_count": 39,
   "metadata": {},
   "outputs": [
    {
     "name": "stdout",
     "output_type": "stream",
     "text": [
      "tensor([[0.8996]], device='cuda:0')\n",
      "Model prediction for the input: True\n"
     ]
    }
   ],
   "source": [
    "input_tensor = torch.tensor(m_input, dtype=torch.float32).to(device)\n",
    "input_tensor = input_tensor.view(1, -1)\n",
    "\n",
    "input_size = 20\n",
    "output_size = 1\n",
    "\n",
    "hidden_size = 24\n",
    "num_hidden_layers = 5\n",
    "model_path = \"trained_weights/neural/kindagood_0.001_10_5_24.pth\"\n",
    "\n",
    "model = NeuralNetwork(input_size, hidden_size, output_size, num_hidden_layers).to(device)\n",
    "model.load_state_dict(torch.load(model_path))\n",
    "model.eval()\n",
    "with torch.no_grad():\n",
    "    output = model(input_tensor)\n",
    "\n",
    "print(torch.sigmoid(output))\n",
    "predicted_class = torch.sigmoid(output) >= 0.8\n",
    "\n",
    "print(\"Model prediction for the input:\", predicted_class.item())\n"
   ]
  }
 ],
 "metadata": {
  "kernelspec": {
   "display_name": "venv",
   "language": "python",
   "name": "python3"
  },
  "language_info": {
   "codemirror_mode": {
    "name": "ipython",
    "version": 3
   },
   "file_extension": ".py",
   "mimetype": "text/x-python",
   "name": "python",
   "nbconvert_exporter": "python",
   "pygments_lexer": "ipython3",
   "version": "3.10.12"
  }
 },
 "nbformat": 4,
 "nbformat_minor": 2
}
