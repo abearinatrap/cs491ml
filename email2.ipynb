{
 "cells": [
  {
   "cell_type": "code",
   "execution_count": 8,
   "metadata": {},
   "outputs": [],
   "source": [
    "import csv\n",
    "import numpy as np\n",
    "import pandas as pd\n",
    "import torch\n",
    "import torch.nn as nn\n",
    "import torch.optim as optim\n",
    "from torch.utils.data import DataLoader, TensorDataset\n",
    "from scipy.sparse import load_npz\n",
    "from sklearn.metrics import precision_score, recall_score, f1_score\n",
    "\n",
    "X_train_tfidf = load_npz('trained_weights/X_train_tfidf.npz')\n",
    "X_test_tfidf = load_npz('trained_weights/X_test_tfidf.npz')\n",
    "X_train = X_train_tfidf.toarray()\n",
    "X_test = X_test_tfidf.toarray()\n",
    "\n",
    "y_train = np.load('trained_weights/y_train.npy')\n",
    "y_test = np.load('trained_weights/y_test.npy')"
   ]
  },
  {
   "cell_type": "code",
   "execution_count": 9,
   "metadata": {},
   "outputs": [],
   "source": [
    "x_train = torch.FloatTensor(X_train)\n",
    "y_train = torch.LongTensor(y_train)\n",
    "\n",
    "x_test = torch.FloatTensor(X_test)\n",
    "y_test = torch.LongTensor(y_test)\n",
    "\n",
    "\n",
    "train_dataset = TensorDataset(x_train, y_train)\n",
    "train_loader = DataLoader(train_dataset, batch_size=32, shuffle=True)\n",
    "\n",
    "val_dataset = TensorDataset(x_test, y_test)\n",
    "val_loader = DataLoader(val_dataset, batch_size=32, shuffle=False)"
   ]
  },
  {
   "cell_type": "code",
   "execution_count": 12,
   "metadata": {},
   "outputs": [
    {
     "name": "stdout",
     "output_type": "stream",
     "text": [
      "Epoch 1/3, Loss: 0.0851, Val Loss: 0.0807, Val Acc: 0.9694, Precision: 0.9522, Recall: 0.9705, F1 Score: 0.9613\n",
      "Epoch 2/3, Loss: 0.0151, Val Loss: 0.0889, Val Acc: 0.9710, Precision: 0.9567, Recall: 0.9698, F1 Score: 0.9632\n",
      "Epoch 3/3, Loss: 0.0704, Val Loss: 0.1619, Val Acc: 0.9670, Precision: 0.9645, Recall: 0.9506, F1 Score: 0.9575\n"
     ]
    }
   ],
   "source": [
    "class DeepNN(nn.Module):\n",
    "    def __init__(self):\n",
    "        super(DeepNN, self).__init__()\n",
    "        self.a = nn.Linear(5000,2000)\n",
    "        self.b = nn.Linear(2000,500)\n",
    "        self.fc1 = nn.Linear(500, 256)\n",
    "        self.fc2 = nn.Linear(256, 128)\n",
    "        self.fc3 = nn.Linear(128, 64)\n",
    "        self.fc4 = nn.Linear(64, 32)\n",
    "        self.fc5 = nn.Linear(32, 1)\n",
    "        self.relu = nn.ReLU()\n",
    "        self.sigmoid = nn.Sigmoid()\n",
    "\n",
    "    def forward(self, x):\n",
    "        x = self.relu(self.a(x))\n",
    "        x = self.relu(self.b(x))\n",
    "        x = self.relu(self.fc1(x))\n",
    "        x = self.relu(self.fc2(x))\n",
    "        x = self.relu(self.fc3(x))\n",
    "        x = self.relu(self.fc4(x))\n",
    "        x = self.fc5(x)\n",
    "        x = self.sigmoid(x)\n",
    "        return x\n",
    "    \n",
    "# Instantiate the model, define loss function, and optimizer\n",
    "model = DeepNN()\n",
    "criterion = nn.BCELoss()  # Binary Cross Entropy Loss for binary classification\n",
    "optimizer = optim.Adam(model.parameters(), lr=0.0005)\n",
    "\n",
    "# Training loop\n",
    "num_epochs = 3\n",
    "for epoch in range(num_epochs):\n",
    "    model.train()\n",
    "    for inputs, labels in train_loader:\n",
    "        optimizer.zero_grad()\n",
    "        outputs = model(inputs)\n",
    "        loss = criterion(outputs, labels.unsqueeze(1).float())\n",
    "        loss.backward()\n",
    "        optimizer.step()\n",
    "\n",
    "     # Validation\n",
    "    model.eval()\n",
    "    with torch.no_grad():\n",
    "        val_loss = 0.0\n",
    "        correct = 0\n",
    "        total = 0\n",
    "        predictions = []\n",
    "\n",
    "        for inputs, labels in val_loader:\n",
    "            outputs = model(inputs)\n",
    "            val_loss += criterion(outputs, labels.unsqueeze(1).float()).item()\n",
    "            predicted = (outputs > 0.5).float()\n",
    "            predictions.extend(predicted.cpu().numpy())\n",
    "            total += labels.size(0)\n",
    "            correct += (predicted == labels.unsqueeze(1)).sum().item()\n",
    "\n",
    "        val_loss /= len(val_loader)\n",
    "        accuracy = correct / total\n",
    "\n",
    "        # Calculate precision, recall, and F1 score\n",
    "        y_true = y_test\n",
    "        y_pred = predictions\n",
    "        precision = precision_score(y_true, y_pred)\n",
    "        recall = recall_score(y_true, y_pred)\n",
    "        f1 = f1_score(y_true, y_pred)\n",
    "\n",
    "    print(f'Epoch {epoch+1}/{num_epochs}, Loss: {loss.item():.4f}, Val Loss: {val_loss:.4f}, Val Acc: {accuracy:.4f}, Precision: {precision:.4f}, Recall: {recall:.4f}, F1 Score: {f1:.4f}')\n",
    "\n"
   ]
  },
  {
   "cell_type": "code",
   "execution_count": 13,
   "metadata": {},
   "outputs": [],
   "source": [
    "torch.save(model.state_dict(), 'trained_weights/emails.pth')"
   ]
  },
  {
   "cell_type": "code",
   "execution_count": null,
   "metadata": {},
   "outputs": [],
   "source": [
    "\"\"\"\n",
    "500\n",
    "Epoch 1/10, Loss: 0.0631, Val Loss: 0.1580, Val Acc: 0.9335, Precision: 0.8938, Recall: 0.9417, F1 Score: 0.9171\n",
    "Epoch 2/10, Loss: 0.0010, Val Loss: 0.1454, Val Acc: 0.9424, Precision: 0.9146, Recall: 0.9403, F1 Score: 0.9272\n",
    "Epoch 3/10, Loss: 0.0274, Val Loss: 0.1310, Val Acc: 0.9466, Precision: 0.9037, Recall: 0.9664, F1 Score: 0.9340\n",
    "Epoch 4/10, Loss: 0.0033, Val Loss: 0.1528, Val Acc: 0.9504, Precision: 0.9218, Recall: 0.9540, F1 Score: 0.9376\n",
    "Epoch 5/10, Loss: 0.0029, Val Loss: 0.2153, Val Acc: 0.9440, Precision: 0.9376, Recall: 0.9176, F1 Score: 0.9275\n",
    "Epoch 6/10, Loss: 0.0117, Val Loss: 0.2795, Val Acc: 0.9458, Precision: 0.9072, Recall: 0.9595, F1 Score: 0.9326\n",
    "Epoch 7/10, Loss: 0.0491, Val Loss: 0.2605, Val Acc: 0.9493, Precision: 0.9238, Recall: 0.9485, F1 Score: 0.9360\n",
    "Epoch 8/10, Loss: 0.0001, Val Loss: 0.3224, Val Acc: 0.9496, Precision: 0.9183, Recall: 0.9561, F1 Score: 0.9368\n",
    "Epoch 9/10, Loss: 0.0019, Val Loss: 0.2844, Val Acc: 0.9493, Precision: 0.9188, Recall: 0.9547, F1 Score: 0.9364\n",
    "Epoch 10/10, Loss: 0.0019, Val Loss: 0.3179, Val Acc: 0.9437, Precision: 0.9388, Recall: 0.9156, F1 Score: 0.9270\n",
    "\n",
    "\n",
    "\"\"\""
   ]
  }
 ],
 "metadata": {
  "kernelspec": {
   "display_name": "venv",
   "language": "python",
   "name": "python3"
  },
  "language_info": {
   "codemirror_mode": {
    "name": "ipython",
    "version": 3
   },
   "file_extension": ".py",
   "mimetype": "text/x-python",
   "name": "python",
   "nbconvert_exporter": "python",
   "pygments_lexer": "ipython3",
   "version": "3.10.12"
  }
 },
 "nbformat": 4,
 "nbformat_minor": 2
}
