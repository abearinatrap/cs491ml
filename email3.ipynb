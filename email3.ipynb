{
 "cells": [
  {
   "cell_type": "code",
   "execution_count": 45,
   "metadata": {},
   "outputs": [],
   "source": [
    "import csv\n",
    "import numpy as np\n",
    "import pandas as pd\n",
    "import torch\n",
    "import torch.nn as nn\n",
    "import torch.optim as optim\n",
    "from torch.utils.data import DataLoader, TensorDataset\n",
    "from scipy.sparse import load_npz\n",
    "from sklearn.metrics import precision_score, recall_score, f1_score, accuracy_score, confusion_matrix, ConfusionMatrixDisplay\n",
    "from sklearn.ensemble import RandomForestClassifier\n",
    "from sklearn.svm import SVC\n",
    "from sklearn.linear_model import LogisticRegression\n",
    "import matplotlib.pyplot as plt\n",
    "\n",
    "\n",
    "X_train_tfidf = load_npz('trained_weights/tfidf/X_train_tfidf_300.npz')\n",
    "X_test_tfidf = load_npz('trained_weights/tfidf/X_test_tfidf_300.npz')\n",
    "#X_train = X_train_tfidf.toarray()\n",
    "X_train = np.load('trained_weights/tfidf/X_train_tfidf_pca.npy')\n",
    "#X_test = X_test_tfidf.toarray()\n",
    "X_test = np.load('trained_weights/tfidf/X_test_tfidf_pca.npy')\n",
    "\n",
    "\n",
    "y_train = np.load('trained_weights/tfidf/y_train_300.npy')\n",
    "y_test = np.load('trained_weights/tfidf/y_test_300.npy')\n",
    "\n",
    "x_train = torch.FloatTensor(X_train)\n",
    "y_train = torch.LongTensor(y_train)\n",
    "\n",
    "x_test = torch.FloatTensor(X_test)\n",
    "y_test = torch.LongTensor(y_test)\n",
    "\n",
    "\n",
    "train_dataset = TensorDataset(x_train, y_train)\n",
    "train_loader = DataLoader(train_dataset, batch_size=32, shuffle=True)\n",
    "\n",
    "val_dataset = TensorDataset(x_test, y_test)\n",
    "val_loader = DataLoader(val_dataset, batch_size=32, shuffle=False)\n"
   ]
  },
  {
   "cell_type": "code",
   "execution_count": 16,
   "metadata": {},
   "outputs": [
    {
     "name": "stderr",
     "output_type": "stream",
     "text": [
      "/home/andrew/dev/cs491ml/venv/lib/python3.10/site-packages/sklearn/metrics/_classification.py:1469: UndefinedMetricWarning: Precision is ill-defined and being set to 0.0 due to no predicted samples. Use `zero_division` parameter to control this behavior.\n",
      "  _warn_prf(average, modifier, msg_start, len(result))\n"
     ]
    },
    {
     "data": {
      "image/png": "[encoded data removed]",
      "text/plain": [
       "<Figure size 640x480 with 2 Axes>"
      ]
     },
     "metadata": {},
     "output_type": "display_data"
    },
    {
     "name": "stdout",
     "output_type": "stream",
     "text": [
      "Epoch 1/10, Loss: 0.0506, Val Loss: 0.1054, Val Acc: 0.9576, Precision: 0.9482, Recall: 0.9430, F1 Score: 0.9456\n",
      "Epoch 2/10, Loss: 0.0945, Val Loss: 0.0914, Val Acc: 0.9662, Precision: 0.9555, Recall: 0.9581, F1 Score: 0.9568\n",
      "Epoch 3/10, Loss: 0.0020, Val Loss: 0.1029, Val Acc: 0.9606, Precision: 0.9210, Recall: 0.9835, F1 Score: 0.9512\n",
      "Epoch 4/10, Loss: 0.0003, Val Loss: 0.0957, Val Acc: 0.9660, Precision: 0.9422, Recall: 0.9725, F1 Score: 0.9571\n",
      "Epoch 5/10, Loss: 0.0038, Val Loss: 0.1091, Val Acc: 0.9558, Precision: 0.9729, Recall: 0.9121, F1 Score: 0.9416\n",
      "Epoch 6/10, Loss: 0.0017, Val Loss: 0.1035, Val Acc: 0.9592, Precision: 0.9725, Recall: 0.9218, F1 Score: 0.9464\n",
      "Epoch 7/10, Loss: 0.0308, Val Loss: 0.0985, Val Acc: 0.9678, Precision: 0.9496, Recall: 0.9691, F1 Score: 0.9592\n",
      "Epoch 8/10, Loss: 0.0002, Val Loss: 0.1140, Val Acc: 0.9563, Precision: 0.9771, Recall: 0.9094, F1 Score: 0.9421\n",
      "Epoch 9/10, Loss: 0.0005, Val Loss: 0.1111, Val Acc: 0.9668, Precision: 0.9382, Recall: 0.9794, F1 Score: 0.9584\n",
      "Epoch 10/10, Loss: 0.0003, Val Loss: 0.1126, Val Acc: 0.9689, Precision: 0.9503, Recall: 0.9712, F1 Score: 0.9606\n"
     ]
    }
   ],
   "source": [
    "class SimpleNN(nn.Module):\n",
    "    def __init__(self):\n",
    "        super(SimpleNN, self).__init__()\n",
    "        self.a = nn.Linear(300,300)\n",
    "        self.b = nn.Linear(300,256)\n",
    "        self.fc1 = nn.Linear(256, 128)\n",
    "        self.fc2 = nn.Linear(128, 1)\n",
    "        self.relu = nn.ReLU()\n",
    "        self.sigmoid = nn.Sigmoid()\n",
    "\n",
    "    def forward(self, x):\n",
    "        x = self.relu(self.a(x))\n",
    "        x = self.relu(self.b(x))\n",
    "        x = self.relu(self.fc1(x))\n",
    "        x = self.fc2(x)\n",
    "        x = self.sigmoid(x)\n",
    "        return x\n",
    "    \n",
    "# Instantiate the model, define loss function, and optimizer\n",
    "model = SimpleNN()\n",
    "criterion = nn.BCELoss()  # Binary Cross Entropy Loss for binary classification\n",
    "optimizer = optim.Adam(model.parameters(), lr=0.0005)\n",
    "model.eval()\n",
    "with torch.no_grad():\n",
    "    val_loss = 0.0\n",
    "    correct = 0\n",
    "    total = 0\n",
    "    predictions = []\n",
    "\n",
    "    for inputs, labels in val_loader:\n",
    "        outputs = model(inputs)\n",
    "        val_loss += criterion(outputs, labels.unsqueeze(1).float()).item()\n",
    "        predicted = (outputs > 0.5).float()\n",
    "        predictions.extend(predicted.cpu().numpy())\n",
    "        total += labels.size(0)\n",
    "        correct += (predicted == labels.unsqueeze(1)).sum().item()\n",
    "\n",
    "    val_loss /= len(val_loader)\n",
    "    accuracy = correct / total\n",
    "\n",
    "    # Calculate precision, recall, and F1 score\n",
    "    y_true = y_test\n",
    "    y_pred = predictions\n",
    "    precision = precision_score(y_true, y_pred)\n",
    "    recall = recall_score(y_true, y_pred)\n",
    "    f1 = f1_score(y_true, y_pred)\n",
    "    cm = confusion_matrix(y_true, y_pred)\n",
    "    cm_display = ConfusionMatrixDisplay(confusion_matrix = cm, display_labels = [False, True]) \n",
    "    cm_display.plot()\n",
    "    plt.show() \n",
    "# Training loop\n",
    "num_epochs = 10\n",
    "for epoch in range(num_epochs):\n",
    "    model.train()\n",
    "    for inputs, labels in train_loader:\n",
    "        optimizer.zero_grad()\n",
    "        outputs = model(inputs)\n",
    "        loss = criterion(outputs, labels.unsqueeze(1).float())\n",
    "        loss.backward()\n",
    "        optimizer.step()\n",
    "\n",
    "     # Validation\n",
    "    model.eval()\n",
    "    with torch.no_grad():\n",
    "        val_loss = 0.0\n",
    "        correct = 0\n",
    "        total = 0\n",
    "        predictions = []\n",
    "\n",
    "        for inputs, labels in val_loader:\n",
    "            outputs = model(inputs)\n",
    "            val_loss += criterion(outputs, labels.unsqueeze(1).float()).item()\n",
    "            predicted = (outputs > 0.5).float()\n",
    "            predictions.extend(predicted.cpu().numpy())\n",
    "            total += labels.size(0)\n",
    "            correct += (predicted == labels.unsqueeze(1)).sum().item()\n",
    "\n",
    "        val_loss /= len(val_loader)\n",
    "        accuracy = correct / total\n",
    "\n",
    "        # Calculate precision, recall, and F1 score\n",
    "        y_true = y_test\n",
    "        y_pred = predictions\n",
    "        precision = precision_score(y_true, y_pred)\n",
    "        recall = recall_score(y_true, y_pred)\n",
    "        f1 = f1_score(y_true, y_pred)\n",
    "        cm = confusion_matrix(y_true, y_pred)\n",
    "        #cm_display = ConfusionMatrixDisplay(confusion_matrix = cm, display_labels = [False, True]) \n",
    "        #cm_display.plot()\n",
    "        #plt.show() \n",
    "\n",
    "    print(f'Epoch {epoch+1}/{num_epochs}, Loss: {loss.item():.4f}, Val Loss: {val_loss:.4f}, Val Acc: {accuracy:.4f}, Precision: {precision:.4f}, Recall: {recall:.4f}, F1 Score: {f1:.4f}')"
   ]
  },
  {
   "cell_type": "code",
   "execution_count": 17,
   "metadata": {},
   "outputs": [
    {
     "data": {
      "image/png": "[encoded data removed]",
      "text/plain": [
       "<Figure size 640x480 with 2 Axes>"
      ]
     },
     "metadata": {},
     "output_type": "display_data"
    }
   ],
   "source": [
    "cm = confusion_matrix(y_true, y_pred)\n",
    "cm_display = ConfusionMatrixDisplay(confusion_matrix = cm, display_labels = [False, True]) \n",
    "cm_display.plot()\n",
    "plt.show() "
   ]
  },
  {
   "cell_type": "code",
   "execution_count": null,
   "metadata": {},
   "outputs": [],
   "source": [
    "\"\"\"\n",
    "Epoch 1/4, Loss: 0.0741, Val Loss: 0.1948, Val Acc: 0.9172, Precision: 0.9037, Recall: 0.8819, F1 Score: 0.8927\n",
    "Epoch 2/4, Loss: 0.0198, Val Loss: 0.1649, Val Acc: 0.9324, Precision: 0.8920, Recall: 0.9410, F1 Score: 0.9158\n",
    "Epoch 3/4, Loss: 0.5584, Val Loss: 0.1488, Val Acc: 0.9375, Precision: 0.9048, Recall: 0.9389, F1 Score: 0.9215\n",
    "Epoch 4/4, Loss: 0.1187, Val Loss: 0.1523, Val Acc: 0.9389, Precision: 0.9121, Recall: 0.9334, F1 Score: 0.9227\n",
    "\"\"\""
   ]
  },
  {
   "cell_type": "code",
   "execution_count": 41,
   "metadata": {},
   "outputs": [
    {
     "data": {
      "text/html": [
       "<style>#sk-container-id-9 {color: black;}#sk-container-id-9 pre{padding: 0;}#sk-container-id-9 div.sk-toggleable {background-color: white;}#sk-container-id-9 label.sk-toggleable__label {cursor: pointer;display: block;width: 100%;margin-bottom: 0;padding: 0.3em;box-sizing: border-box;text-align: center;}#sk-container-id-9 label.sk-toggleable__label-arrow:before {content: \"▸\";float: left;margin-right: 0.25em;color: #696969;}#sk-container-id-9 label.sk-toggleable__label-arrow:hover:before {color: black;}#sk-container-id-9 div.sk-estimator:hover label.sk-toggleable__label-arrow:before {color: black;}#sk-container-id-9 div.sk-toggleable__content {max-height: 0;max-width: 0;overflow: hidden;text-align: left;background-color: #f0f8ff;}#sk-container-id-9 div.sk-toggleable__content pre {margin: 0.2em;color: black;border-radius: 0.25em;background-color: #f0f8ff;}#sk-container-id-9 input.sk-toggleable__control:checked~div.sk-toggleable__content {max-height: 200px;max-width: 100%;overflow: auto;}#sk-container-id-9 input.sk-toggleable__control:checked~label.sk-toggleable__label-arrow:before {content: \"▾\";}#sk-container-id-9 div.sk-estimator input.sk-toggleable__control:checked~label.sk-toggleable__label {background-color: #d4ebff;}#sk-container-id-9 div.sk-label input.sk-toggleable__control:checked~label.sk-toggleable__label {background-color: #d4ebff;}#sk-container-id-9 input.sk-hidden--visually {border: 0;clip: rect(1px 1px 1px 1px);clip: rect(1px, 1px, 1px, 1px);height: 1px;margin: -1px;overflow: hidden;padding: 0;position: absolute;width: 1px;}#sk-container-id-9 div.sk-estimator {font-family: monospace;background-color: #f0f8ff;border: 1px dotted black;border-radius: 0.25em;box-sizing: border-box;margin-bottom: 0.5em;}#sk-container-id-9 div.sk-estimator:hover {background-color: #d4ebff;}#sk-container-id-9 div.sk-parallel-item::after {content: \"\";width: 100%;border-bottom: 1px solid gray;flex-grow: 1;}#sk-container-id-9 div.sk-label:hover label.sk-toggleable__label {background-color: #d4ebff;}#sk-container-id-9 div.sk-serial::before {content: \"\";position: absolute;border-left: 1px solid gray;box-sizing: border-box;top: 0;bottom: 0;left: 50%;z-index: 0;}#sk-container-id-9 div.sk-serial {display: flex;flex-direction: column;align-items: center;background-color: white;padding-right: 0.2em;padding-left: 0.2em;position: relative;}#sk-container-id-9 div.sk-item {position: relative;z-index: 1;}#sk-container-id-9 div.sk-parallel {display: flex;align-items: stretch;justify-content: center;background-color: white;position: relative;}#sk-container-id-9 div.sk-item::before, #sk-container-id-9 div.sk-parallel-item::before {content: \"\";position: absolute;border-left: 1px solid gray;box-sizing: border-box;top: 0;bottom: 0;left: 50%;z-index: -1;}#sk-container-id-9 div.sk-parallel-item {display: flex;flex-direction: column;z-index: 1;position: relative;background-color: white;}#sk-container-id-9 div.sk-parallel-item:first-child::after {align-self: flex-end;width: 50%;}#sk-container-id-9 div.sk-parallel-item:last-child::after {align-self: flex-start;width: 50%;}#sk-container-id-9 div.sk-parallel-item:only-child::after {width: 0;}#sk-container-id-9 div.sk-dashed-wrapped {border: 1px dashed gray;margin: 0 0.4em 0.5em 0.4em;box-sizing: border-box;padding-bottom: 0.4em;background-color: white;}#sk-container-id-9 div.sk-label label {font-family: monospace;font-weight: bold;display: inline-block;line-height: 1.2em;}#sk-container-id-9 div.sk-label-container {text-align: center;}#sk-container-id-9 div.sk-container {/* jupyter's `normalize.less` sets `[hidden] { display: none; }` but bootstrap.min.css set `[hidden] { display: none !important; }` so we also need the `!important` here to be able to override the default hidden behavior on the sphinx rendered scikit-learn.org. See: https://github.com/scikit-learn/scikit-learn/issues/21755 */display: inline-block !important;position: relative;}#sk-container-id-9 div.sk-text-repr-fallback {display: none;}</style><div id=\"sk-container-id-9\" class=\"sk-top-container\"><div class=\"sk-text-repr-fallback\"><pre>RandomForestClassifier(max_depth=17, random_state=42)</pre><b>In a Jupyter environment, please rerun this cell to show the HTML representation or trust the notebook. <br />On GitHub, the HTML representation is unable to render, please try loading this page with nbviewer.org.</b></div><div class=\"sk-container\" hidden><div class=\"sk-item\"><div class=\"sk-estimator sk-toggleable\"><input class=\"sk-toggleable__control sk-hidden--visually\" id=\"sk-estimator-id-9\" type=\"checkbox\" checked><label for=\"sk-estimator-id-9\" class=\"sk-toggleable__label sk-toggleable__label-arrow\">RandomForestClassifier</label><div class=\"sk-toggleable__content\"><pre>RandomForestClassifier(max_depth=17, random_state=42)</pre></div></div></div></div></div>"
      ],
      "text/plain": [
       "RandomForestClassifier(max_depth=17, random_state=42)"
      ]
     },
     "execution_count": 41,
     "metadata": {},
     "output_type": "execute_result"
    }
   ],
   "source": [
    "# Train the Random Forest classifier\n",
    "random_forest = RandomForestClassifier(n_estimators=100, random_state=42, max_depth=18)\n",
    "random_forest.fit(X_train, y_train)"
   ]
  },
  {
   "cell_type": "code",
   "execution_count": 42,
   "metadata": {},
   "outputs": [
    {
     "name": "stdout",
     "output_type": "stream",
     "text": [
      "(3730,)\n",
      "[[2191   82]\n",
      " [ 102 1355]]\n",
      "[[8874  175]\n",
      " [  38 5833]]\n",
      "F1 Score: 0.9364201796821009 0.9820691977439179\n"
     ]
    }
   ],
   "source": [
    "# Predict on the test set\n",
    "predictions = random_forest.predict(X_test)\n",
    "predictions_t = random_forest.predict(X_train)\n",
    "print(predictions.shape)\n",
    "\n",
    "# Compute F1 score\n",
    "f1 = f1_score(y_test, predictions)\n",
    "f1_t = f1_score(y_train, predictions_t)\n",
    "cm = confusion_matrix(y_test, predictions)\n",
    "print(cm)\n",
    "cm = confusion_matrix(y_train, predictions_t)\n",
    "print(cm)\n",
    "print(\"F1 Score:\", f1, f1_t)"
   ]
  },
  {
   "cell_type": "markdown",
   "metadata": {},
   "source": [
    "- max depth 8:    F1 Score: 0.9009653199856991 0.9287016934433349\n",
    "- md 9:           F1 Score: 0.9124911785462243 0.9407515693524809\n",
    "- md 10:          F1 Score: 0.9147506190307747 0.9501285347043702\n",
    "- md 11:          F1 Score: 0.9231843575418994 0.9609375\n",
    "- md 12:          F1 Score: 0.9260945709281961 0.9663951120162932\n",
    "- md 13:          F1 Score: 0.930589466341123 0.9703238935051721\n",
    "- md 14:          F1 Score: 0.9333333333333333 0.9747145877378436\n",
    "- md 15:          F1 Score: 0.932822833275322 0.9772036474164133\n",
    "- md 16:          F1 Score: 0.9377162629757786 0.9806234203875316\n",
    "- md 17:          F1 Score: 0.9364201796821009 0.9820691977439179"
   ]
  },
  {
   "cell_type": "code",
   "execution_count": 50,
   "metadata": {},
   "outputs": [
    {
     "name": "stdout",
     "output_type": "stream",
     "text": [
      "[[2188   85]\n",
      " [  29 1428]]\n",
      "Accuracy: 0.9694369973190349 f1: 0.9616161616161616\n"
     ]
    }
   ],
   "source": [
    "# use gaussian kernel, so gamma \n",
    "svm_classifier = SVC(kernel='rbf', gamma='scale', C=1.0, random_state=42) # 'scale' is one option for auto-scaling gamma\n",
    "# can also specify a specific value for gamma, ie.  gamma=0.1\n",
    "\n",
    "svm_classifier.fit(X_train, y_train)\n",
    "\n",
    "# Predict on the test set\n",
    "s_predictions = svm_classifier.predict(X_test)\n",
    "\n",
    "accuracy = accuracy_score(y_test, s_predictions)\n",
    "f1 = f1_score(y_test, s_predictions)\n",
    "cm = confusion_matrix(y_test,s_predictions)\n",
    "print(cm)\n",
    "print(f'Accuracy: {accuracy} f1: {f1}')"
   ]
  },
  {
   "cell_type": "code",
   "execution_count": 51,
   "metadata": {},
   "outputs": [
    {
     "name": "stdout",
     "output_type": "stream",
     "text": [
      "[[2188   85]\n",
      " [  29 1428]]\n",
      "Accuracy: 0.9694369973190349 f1: 0.9616161616161616\n"
     ]
    }
   ],
   "source": [
    "logistic_model = LogisticRegression(random_state=42)\n",
    "\n",
    "# Fit the model on the standardized training data\n",
    "logistic_model.fit(X_train, y_train)\n",
    "\n",
    "# Make predictions on the standardized test set\n",
    "y_pred = logistic_model.predict(X_test)\n",
    "\n",
    "accuracy = accuracy_score(y_test, predictions)\n",
    "f1 = f1_score(y_test, predictions)\n",
    "cm = confusion_matrix(y_test,predictions)\n",
    "print(cm)\n",
    "print(f'Accuracy: {accuracy} f1: {f1}')"
   ]
  },
  {
   "cell_type": "code",
   "execution_count": null,
   "metadata": {},
   "outputs": [],
   "source": [
    "for i in range(len(predictions)):\n",
    "    if predictions[i]!=s_predictions[i]:\n",
    "        print(i)"
   ]
  },
  {
   "cell_type": "code",
   "execution_count": null,
   "metadata": {},
   "outputs": [],
   "source": [
    "# Specify the file path where you want to save the model\n",
    "model_filename = 'trained_weights/svm_classifier_model_tfidf.pkl'\n",
    "\n",
    "# Save the trained SVM model to a file\n",
    "joblib.dump(svm_classifier, model_filename)\n",
    "\n",
    "print(\"Model saved successfully at:\", model_filename)"
   ]
  }
 ],
 "metadata": {
  "kernelspec": {
   "display_name": "venv",
   "language": "python",
   "name": "python3"
  },
  "language_info": {
   "codemirror_mode": {
    "name": "ipython",
    "version": 3
   },
   "file_extension": ".py",
   "mimetype": "text/x-python",
   "name": "python",
   "nbconvert_exporter": "python",
   "pygments_lexer": "ipython3",
   "version": "3.10.12"
  }
 },
 "nbformat": 4,
 "nbformat_minor": 2
}
