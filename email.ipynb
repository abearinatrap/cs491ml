{
 "cells": [
  {
   "cell_type": "code",
   "execution_count": 18,
   "metadata": {},
   "outputs": [
    {
     "data": {
      "text/plain": [
       "100000000"
      ]
     },
     "execution_count": 18,
     "metadata": {},
     "output_type": "execute_result"
    }
   ],
   "source": [
    "import csv\n",
    "import numpy as np\n",
    "import pandas as pd\n",
    "from sklearn.model_selection import train_test_split\n",
    "from sklearn.feature_extraction.text import TfidfVectorizer\n",
    "from sklearn.preprocessing import LabelEncoder\n",
    "from sklearn.decomposition import PCA\n",
    "from scipy.sparse import save_npz\n",
    "from unidecode import unidecode\n",
    "\n",
    "\"\"\"\n",
    "from tensorflow.keras import layers, models\n",
    "from tensorflow.keras.callbacks import Callback\n",
    "from tensorflow.keras.models import Sequential\n",
    "from tensorflow.keras.layers import Dense\n",
    "import tensorflow as tf\n",
    "CUDA_VISIBLE_DEVICES=\"\"\n",
    "tf.config.run_functions_eagerly(True)\n",
    "\"\"\"\n",
    "csv.field_size_limit(100000000)"
   ]
  },
  {
   "cell_type": "code",
   "execution_count": 19,
   "metadata": {},
   "outputs": [
    {
     "name": "stdout",
     "output_type": "stream",
     "text": [
      "18650\n"
     ]
    }
   ],
   "source": [
    "def convert_to_ascii(text):\n",
    "    original_chars = set(text)\n",
    "    converted_text = unidecode(text)\n",
    "    converted_chars = set(converted_text)\n",
    "    \n",
    "    conversions = sum(1 for orig, conv in zip(text, converted_text) if orig != conv)\n",
    "    deletions = len(original_chars - converted_chars)\n",
    "\n",
    "    return converted_text, deletions, conversions\n",
    "\n",
    "def parse_csv(filename):\n",
    "    data = []\n",
    "    with open(filename, newline='', encoding='utf-8') as csvfile:\n",
    "        reader = csv.reader(csvfile, delimiter=',', quotechar='\"')\n",
    "        next(reader)  # Skip the header row\n",
    "        for row in reader:\n",
    "            email_text = row[1].replace('\"\"', '\"')  # Replace double double quotes with a single quote\n",
    "            converted_text, d, c = convert_to_ascii(email_text)\n",
    "            email_type = 0 if row[2]==\"Safe Email\" else 1\n",
    "            data.append({'Email Text': converted_text, 'Email Type': email_type})\n",
    "\n",
    "    data = pd.DataFrame(data)\n",
    "    return data\n",
    "\n",
    "# Example usage\n",
    "filename = 'data/Phishing_Email.csv'\n",
    "parsed_data = parse_csv(filename)\n",
    "\n",
    "print(len(parsed_data))"
   ]
  },
  {
   "cell_type": "code",
   "execution_count": 3,
   "metadata": {},
   "outputs": [],
   "source": [
    "ind = 6293"
   ]
  },
  {
   "cell_type": "code",
   "execution_count": 4,
   "metadata": {},
   "outputs": [
    {
     "name": "stdout",
     "output_type": "stream",
     "text": [
      "i? 1/2@ \n",
      "      \n",
      "A A A \n",
      "A  i? 1/2i? 1/2i? 1/2~i? 1/2Wi? 1/2i? 1/2i? 1/2G i? 1/2i? 1/2i? 1/2i? 1/2i? 1/2i? 1/2i? 1/2i? 1/2\n",
      "A A  \n",
      "      i? 1/2mi? 1/2@A A A  i? 1/2Wi? 1/2Gi? 1/2i? 1/2i? 1/2i? 1/2i? 1/2gi? 1/2i? 1/2i? 1/2i? 1/2i? 1/2i? 1/2i? 1/2Wi? 1/2Ai? 1/2i? 1/2i? 1/2i? 1/2i? 1/2gi? 1/2i? 1/2i? 1/2i? 1/2A A  i? 1/2i? 1/2A A A  i? 1/2@i? 1/2}i? 1/2G\n",
      "A A  \n",
      "      i? 1/2i? 1/2i? 1/2vi? 1/2qi? 1/2i? 1/2i? 1/2G\n",
      "A A  i? 1/2i? 1/2i? 1/2qi? 1/2qi? 1/2i? 1/2i? 1/2G\n",
      "A A  i? 1/2i? 1/2i? 1/2i? 1/2i? 1/2qi? 1/2i? 1/2i? 1/2G\n",
      "A A  \n",
      "      i? 1/2qi? 1/2li? 1/2li? 1/2i? 1/2i? 1/2G\n",
      "A A  \n",
      "      i? 1/2i? 1/2i? 1/2@i? 1/2si? 1/2i? 1/2i? 1/2G\n",
      "A A  \n",
      "      i? 1/2i? 1/2i? 1/2i? 1/2i? 1/2i? 1/2i? 1/2i? 1/2i? 1/2i? 1/2i? 1/2i? 1/2i? 1/2hi? 1/2i? 1/2i? 1/2Ki? 1/2Oi? 1/2i? 1/2i? 1/2~i? 1/2i? 1/2i? 1/2Ti? 1/2qi? 1/2li? 1/2i? 1/2A  i? 1/2i? 1/2i? 1/2@i? 1/2@i? 1/2i? 1/2i? 1/2Gi? 1/2i? 1/2i? 1/2i? 1/2i? 1/2Hi? 1/2ui? 1/2i? 1/2i? 1/2ti? 1/2i? 1/2i? 1/2i? 1/2i? 1/2i? 1/2i? 1/2i? 1/2i? 1/2~i? 1/2Bi? 1/2O150i? 1/2i? 1/2i? 1/2Ai? 1/2i? 1/2i? 1/2Ti? 1/2i? 1/2\n",
      "A A A A  A A  \n",
      "      i? 1/2i? 1/2i? 1/2i? 1/2i? 1/2i? 1/2i? 1/2i? 1/2i? 1/2i? 1/2i? 1/2Ai? 1/2pi? 1/2i? 1/2i? 1/2i? 1/2i? 1/2i? 1/2i? 1/2~i? 1/2Ni? 1/2i? 1/2i? 1/2Bi? 1/2zi? 1/2CA A  A  \n",
      "--DeathToSpamDeathToSpamDeathToSpam--\n",
      "-------------------------------------------------------\n",
      "This sf.net email is sponsored by:ThinkGeek\n",
      "Welcome to geek heaven.\n",
      "http://thinkgeek.com/sf\n",
      "_______________________________________________\n",
      "Spamassassin-Sightings mailing list\n",
      "Spamassassin-Sightings@lists.sourceforge.net\n",
      "https://lists.sourceforge.net/lists/listinfo/spamassassin-sightings\n",
      "\n",
      "1\n",
      "6293\n"
     ]
    }
   ],
   "source": [
    "print(parsed_data.iloc[ind]['Email Text'])\n",
    "print(parsed_data.iloc[ind]['Email Type'])\n",
    "print(ind)\n",
    "ind+=1"
   ]
  },
  {
   "cell_type": "code",
   "execution_count": 20,
   "metadata": {},
   "outputs": [],
   "source": [
    "X = parsed_data['Email Text'].astype(str)\n",
    "y = parsed_data['Email Type'].to_numpy()\n",
    "\n",
    "max_features = 2000\n",
    "\n",
    "X_train, X_test, y_train, y_test = train_test_split(X, y, test_size=0.2, random_state=42)\n",
    "tfidf_vectorizer = TfidfVectorizer(stop_words='english', max_features=max_features)\n",
    "X_train_tfidf = tfidf_vectorizer.fit_transform(X_train)\n",
    "X_test_tfidf = tfidf_vectorizer.transform(X_test)"
   ]
  },
  {
   "cell_type": "code",
   "execution_count": 6,
   "metadata": {},
   "outputs": [],
   "source": [
    "# Save the TF-IDF transformed data to a file\n",
    "save_npz(f'trained_weights/tfidf/X_train_tfidf_{max_features}.npz', X_train_tfidf)\n",
    "save_npz(f'trained_weights/tfidf/X_test_tfidf_{max_features}.npz', X_test_tfidf)\n",
    "np.save(f'trained_weights/tfidf/y_train_{max_features}.npy', y_train)\n",
    "np.save(f'trained_weights/tfidf/y_test_{max_features}.npy', y_test)"
   ]
  },
  {
   "cell_type": "code",
   "execution_count": 4,
   "metadata": {},
   "outputs": [],
   "source": [
    "from scipy.sparse import load_npz\n",
    "\n",
    "loaded_X_train_tfidf = load_npz('trained_weights/X_train_tfidf.npz')\n",
    "loaded_X_test_tfidf = load_npz('trained_weights/X_test_tfidf.npz')"
   ]
  },
  {
   "cell_type": "code",
   "execution_count": 7,
   "metadata": {},
   "outputs": [
    {
     "name": "stdout",
     "output_type": "stream",
     "text": [
      "\n",
      "Top 20 features based on average TF-IDF values:\n",
      "com: 0.06505584998819713\n",
      "http: 0.0601437468636956\n",
      "www: 0.03993296759201532\n",
      "enron: 0.038111761674932465\n",
      "list: 0.03427580846656208\n",
      "click: 0.032517164075461624\n",
      "email: 0.031894832506998275\n",
      "net: 0.03175136419248079\n",
      "new: 0.030216339953742174\n",
      "linux: 0.02818042411875522\n",
      "like: 0.0277816678066614\n",
      "time: 0.02763379952372797\n",
      "free: 0.027149882408005806\n",
      "just: 0.027050625077331653\n",
      "2002: 0.02576290213794713\n",
      "mail: 0.025564054920219664\n",
      "information: 0.02551702901314046\n",
      "00: 0.02517331154640784\n",
      "know: 0.024393181139255017\n",
      "10: 0.024383400461901912\n",
      "\n",
      "Bottom 20 features based on average TF-IDF values:\n",
      "3d: 0.001416883846635995\n",
      "2i: 0.0023503930726647237\n",
      "submissions: 0.0024443239585678084\n",
      "semantics: 0.0026811830526685307\n",
      "submission: 0.0028400696987123577\n",
      "abstract: 0.0028739118332935503\n",
      "discourse: 0.003016307205766285\n",
      "york: 0.003427725352473109\n",
      "abstracts: 0.0034375680165525902\n",
      "session: 0.0034661635665790263\n",
      "acquisition: 0.003481078637361065\n",
      "speakers: 0.0035473841733704332\n",
      "grammar: 0.0036628974562796985\n",
      "knowledge: 0.0036767446396873214\n",
      "orders: 0.0037783941465361777\n",
      "study: 0.003804561746242825\n",
      "processing: 0.0038246703556423117\n",
      "structure: 0.003826787724538729\n",
      "registration: 0.0038392961529972085\n",
      "1995: 0.003855645442682459\n"
     ]
    }
   ],
   "source": [
    "feature_names = tfidf_vectorizer.get_feature_names_out()\n",
    "avg_tfidf_values = X_train_tfidf.mean(axis=0).A1\n",
    "sorted_features = sorted(zip(feature_names, avg_tfidf_values), key=lambda x: x[1], reverse=True)\n",
    "\n",
    "# Print the top N features and their average TF-IDF values\n",
    "top_n = 20\n",
    "print(f\"\\nTop {top_n} features based on average TF-IDF values:\")\n",
    "for feature, avg_tfidf in sorted_features[:top_n]:\n",
    "    print(f\"{feature}: {avg_tfidf}\")\n",
    "\n",
    "\n",
    "sorted_features = sorted(zip(feature_names, avg_tfidf_values), key=lambda x: x[1], reverse=False)\n",
    "top_n = 20\n",
    "print(f\"\\nBottom {top_n} features based on average TF-IDF values:\")\n",
    "for feature, avg_tfidf in sorted_features[:top_n]:\n",
    "    print(f\"{feature}: {avg_tfidf}\")"
   ]
  },
  {
   "cell_type": "code",
   "execution_count": 24,
   "metadata": {},
   "outputs": [],
   "source": [
    "# Specify the number of components\n",
    "n_components = 300  # You can adjust this based on your needs\n",
    "\n",
    "# Run PCA\n",
    "pca = PCA(n_components=n_components, random_state=42)\n",
    "pca_result = pca.fit_transform(X_train_tfidf.toarray())\n",
    "pca_test = pca.transform(X_test_tfidf.toarray())\n",
    "\n",
    "print(pca_result.shape)\n",
    "print(pca_test.shape)\n",
    "print(type(pca_result))"
   ]
  },
  {
   "cell_type": "code",
   "execution_count": 27,
   "metadata": {},
   "outputs": [],
   "source": [
    "np.save(f'trained_weights/tfidf/X_train_tfidf_pca.npy', pca_result)\n",
    "np.save(f'trained_weights/tfidf/X_test_tfidf_pca.npy', pca_test)\n",
    "np.save(f'trained_weights/tfidf/y_train_pca.npy', y_train)\n",
    "np.save(f'trained_weights/tfidf/y_test_pca.npy', y_test)"
   ]
  },
  {
   "cell_type": "code",
   "execution_count": 11,
   "metadata": {},
   "outputs": [
    {
     "name": "stdout",
     "output_type": "stream",
     "text": [
      "(14920, 300)\n",
      "14920\n",
      "(3730, 300)\n",
      "3730\n",
      "0\n",
      "0\n"
     ]
    }
   ],
   "source": [
    "print(X_train_tfidf.shape)\n",
    "print(len(y_train))\n",
    "print(X_test_tfidf.shape)\n",
    "print(len(y_test))\n",
    "print(y_train[0])\n",
    "print(y_train[2])"
   ]
  },
  {
   "cell_type": "code",
   "execution_count": 20,
   "metadata": {},
   "outputs": [
    {
     "name": "stdout",
     "output_type": "stream",
     "text": [
      "(14920, 300)\n",
      "(14920,)\n",
      "(14920, 300)\n",
      "<class 'numpy.ndarray'>\n",
      "<class 'numpy.ndarray'>\n",
      "<class 'numpy.int32'>\n",
      "Model: \"sequential_14\"\n",
      "_________________________________________________________________\n",
      " Layer (type)                Output Shape              Param #   \n",
      "=================================================================\n",
      " dense_40 (Dense)            (None, 128)               38528     \n",
      "                                                                 \n",
      " dense_41 (Dense)            (None, 128)               16512     \n",
      "                                                                 \n",
      " dense_42 (Dense)            (None, 128)               16512     \n",
      "                                                                 \n",
      " dense_43 (Dense)            (None, 1)                 129       \n",
      "                                                                 \n",
      "=================================================================\n",
      "Total params: 71681 (280.00 KB)\n",
      "Trainable params: 71681 (280.00 KB)\n",
      "Non-trainable params: 0 (0.00 Byte)\n",
      "_________________________________________________________________\n",
      "None\n",
      "Epoch 1/10\n"
     ]
    },
    {
     "name": "stderr",
     "output_type": "stream",
     "text": [
      "2023-11-23 02:46:10.655099: W tensorflow/core/framework/op_kernel.cc:1827] UNKNOWN: JIT compilation failed.\n"
     ]
    },
    {
     "ename": "UnknownError",
     "evalue": "Exception encountered when calling layer 'dense_43' (type Dense).\n\n{{function_node __wrapped__Sigmoid_device_/job:localhost/replica:0/task:0/device:GPU:0}} JIT compilation failed. [Op:Sigmoid] name: \n\nCall arguments received by layer 'dense_43' (type Dense):\n  • inputs=tf.Tensor(shape=(64, 128), dtype=float32)",
     "output_type": "error",
     "traceback": [
      "\u001b[0;31m---------------------------------------------------------------------------\u001b[0m",
      "\u001b[0;31mUnknownError\u001b[0m                              Traceback (most recent call last)",
      "\u001b[1;32m/home/andrew/dev/cs491ml/email.ipynb Cell 9\u001b[0m line \u001b[0;36m3\n\u001b[1;32m     <a href='vscode-notebook-cell://ssh-remote%2Bandrew@dscl_pop/home/andrew/dev/cs491ml/email.ipynb#X11sdnNjb2RlLXJlbW90ZQ%3D%3D?line=27'>28</a>\u001b[0m \u001b[39mprint\u001b[39m(model\u001b[39m.\u001b[39msummary())\n\u001b[1;32m     <a href='vscode-notebook-cell://ssh-remote%2Bandrew@dscl_pop/home/andrew/dev/cs491ml/email.ipynb#X11sdnNjb2RlLXJlbW90ZQ%3D%3D?line=29'>30</a>\u001b[0m \u001b[39m# Train the model\u001b[39;00m\n\u001b[0;32m---> <a href='vscode-notebook-cell://ssh-remote%2Bandrew@dscl_pop/home/andrew/dev/cs491ml/email.ipynb#X11sdnNjb2RlLXJlbW90ZQ%3D%3D?line=30'>31</a>\u001b[0m model\u001b[39m.\u001b[39;49mfit(X_train_tfidf_train, y_train, epochs\u001b[39m=\u001b[39;49m\u001b[39m10\u001b[39;49m, batch_size\u001b[39m=\u001b[39;49m\u001b[39m64\u001b[39;49m, validation_data\u001b[39m=\u001b[39;49m(X_test_tfidf_train, y_test))\n",
      "File \u001b[0;32m~/dev/cs491ml/venv/lib/python3.10/site-packages/keras/src/utils/traceback_utils.py:70\u001b[0m, in \u001b[0;36mfilter_traceback.<locals>.error_handler\u001b[0;34m(*args, **kwargs)\u001b[0m\n\u001b[1;32m     67\u001b[0m     filtered_tb \u001b[39m=\u001b[39m _process_traceback_frames(e\u001b[39m.\u001b[39m__traceback__)\n\u001b[1;32m     68\u001b[0m     \u001b[39m# To get the full stack trace, call:\u001b[39;00m\n\u001b[1;32m     69\u001b[0m     \u001b[39m# `tf.debugging.disable_traceback_filtering()`\u001b[39;00m\n\u001b[0;32m---> 70\u001b[0m     \u001b[39mraise\u001b[39;00m e\u001b[39m.\u001b[39mwith_traceback(filtered_tb) \u001b[39mfrom\u001b[39;00m \u001b[39mNone\u001b[39;00m\n\u001b[1;32m     71\u001b[0m \u001b[39mfinally\u001b[39;00m:\n\u001b[1;32m     72\u001b[0m     \u001b[39mdel\u001b[39;00m filtered_tb\n",
      "File \u001b[0;32m~/dev/cs491ml/venv/lib/python3.10/site-packages/keras/src/backend.py:5915\u001b[0m, in \u001b[0;36msigmoid\u001b[0;34m(x)\u001b[0m\n\u001b[1;32m   5903\u001b[0m \u001b[39m@keras_export\u001b[39m(\u001b[39m\"\u001b[39m\u001b[39mkeras.backend.sigmoid\u001b[39m\u001b[39m\"\u001b[39m)\n\u001b[1;32m   5904\u001b[0m \u001b[39m@tf\u001b[39m\u001b[39m.\u001b[39m__internal__\u001b[39m.\u001b[39mdispatch\u001b[39m.\u001b[39madd_dispatch_support\n\u001b[1;32m   5905\u001b[0m \u001b[39m@doc_controls\u001b[39m\u001b[39m.\u001b[39mdo_not_generate_docs\n\u001b[1;32m   5906\u001b[0m \u001b[39mdef\u001b[39;00m \u001b[39msigmoid\u001b[39m(x):\n\u001b[1;32m   5907\u001b[0m \u001b[39m    \u001b[39m\u001b[39m\"\"\"Element-wise sigmoid.\u001b[39;00m\n\u001b[1;32m   5908\u001b[0m \n\u001b[1;32m   5909\u001b[0m \u001b[39m    Args:\u001b[39;00m\n\u001b[0;32m   (...)\u001b[0m\n\u001b[1;32m   5913\u001b[0m \u001b[39m        A tensor.\u001b[39;00m\n\u001b[1;32m   5914\u001b[0m \u001b[39m    \"\"\"\u001b[39;00m\n\u001b[0;32m-> 5915\u001b[0m     output \u001b[39m=\u001b[39m tf\u001b[39m.\u001b[39;49msigmoid(x)\n\u001b[1;32m   5916\u001b[0m     \u001b[39m# Cache the logits to use for crossentropy loss.\u001b[39;00m\n\u001b[1;32m   5917\u001b[0m     output\u001b[39m.\u001b[39m_keras_logits \u001b[39m=\u001b[39m x\n",
      "\u001b[0;31mUnknownError\u001b[0m: Exception encountered when calling layer 'dense_43' (type Dense).\n\n{{function_node __wrapped__Sigmoid_device_/job:localhost/replica:0/task:0/device:GPU:0}} JIT compilation failed. [Op:Sigmoid] name: \n\nCall arguments received by layer 'dense_43' (type Dense):\n  • inputs=tf.Tensor(shape=(64, 128), dtype=float32)"
     ]
    }
   ],
   "source": [
    "X_train_tfidf_train = X_train_tfidf.toarray()\n",
    "#X_train_tfidf_train = X_train_tfidf.toarray().reshape((X_train_tfidf.shape[0], X_train_tfidf.shape[1], 1))\n",
    "X_test_tfidf_train = X_test_tfidf.toarray()\n",
    "#X_test_tfidf_train = X_test_tfidf.toarray().reshape((X_test_tfidf.shape[0], X_test_tfidf.shape[1], 1))\n",
    "\n",
    "\n",
    "print(X_train_tfidf_train.shape)\n",
    "print(y_train.shape)\n",
    "print(X_train_tfidf.toarray().shape)\n",
    "\n",
    "print(type(X_train_tfidf_train))\n",
    "print(type(y_train))\n",
    "print(type(y_train[0]))\n",
    "X_train_tfidf_train.astype('float64')\n",
    "\n",
    "y_train = y_train.astype('int32')\n",
    "y_test = y_test.astype('int32')\n",
    "\n",
    "# Build a fully connected feedforward neural network\n",
    "model = Sequential()\n",
    "model.add(Dense(128, input_shape=(X_train_tfidf_train.shape[1],), activation='relu'))\n",
    "model.add(Dense(128, activation='relu'))\n",
    "model.add(Dense(128, activation='relu'))\n",
    "model.add(Dense(1, activation='sigmoid'))  # Assuming binary classification, adjust for your task\n",
    "\n",
    "# Compile the model\n",
    "model.compile(optimizer='adam', loss='binary_crossentropy', metrics=['accuracy'])\n",
    "print(model.summary())\n",
    "\n",
    "# Train the model\n",
    "model.fit(X_train_tfidf_train, y_train, epochs=10, batch_size=64, validation_data=(X_test_tfidf_train, y_test))"
   ]
  },
  {
   "cell_type": "code",
   "execution_count": null,
   "metadata": {},
   "outputs": [],
   "source": [
    "# Build the CNN model\n",
    "model = models.Sequential()\n",
    "model.add(layers.Conv1D(32, 3, activation='relu', input_shape=(5000, 1)))\n",
    "model.add(layers.MaxPooling1D(2))\n",
    "model.add(layers.Flatten())\n",
    "model.add(layers.Dense(64, activation='relu'))\n",
    "model.add(layers.Dense(1, activation='sigmoid'))  # Change to sigmoid for binary classification\n",
    "\n",
    "# Compile the model\n",
    "model.compile(optimizer='adam', loss='binary_crossentropy', metrics=['accuracy'])\n",
    "print(model.summary())\n",
    "\n",
    "# Define a custom callback to print intermediate outputs\n",
    "class IntermediateOutputCallback(Callback):\n",
    "    def __init__(self, layer_names):\n",
    "        super(IntermediateOutputCallback, self).__init__()\n",
    "        self.layer_names = layer_names\n",
    "\n",
    "    def on_epoch_end(self, epoch, logs=None):\n",
    "        intermediate_layer_models = [tf.keras.Model(inputs=model.input, outputs=model.get_layer(name).output) for name in self.layer_names]\n",
    "\n",
    "        for i, name in enumerate(self.layer_names):\n",
    "            intermediate_output = intermediate_layer_models[i].predict(X_train_tfidf)\n",
    "            print(f\"Intermediate Output of Layer '{name}' during epoch {epoch + 1}: {intermediate_output}\")\n",
    "\n",
    "# Instantiate the callback with the names of layers for which you want to inspect outputs\n",
    "callback = IntermediateOutputCallback(layer_names=['conv1d', 'dense36'])\n",
    "\n",
    "#print(type(X_test_tfidf_train))\n",
    "\n",
    "# Train the model with the custom callback\n",
    "model.fit(X_train_tfidf_train, y_train, epochs=5, batch_size=64, validation_split=0.2, callbacks=[callback])\n",
    "\n",
    "# Train the model\n",
    "#model.fit(X_train_tfidf_train, y_train, epochs=5, batch_size=64, validation_split=0.2)\n",
    "\n",
    "# Evaluate the model\n",
    "test_loss, test_acc = model.evaluate(X_test_tfidf_train, y_test)\n",
    "print(f'Test accuracy: {test_acc}')"
   ]
  }
 ],
 "metadata": {
  "kernelspec": {
   "display_name": "venv",
   "language": "python",
   "name": "python3"
  },
  "language_info": {
   "codemirror_mode": {
    "name": "ipython",
    "version": 3
   },
   "file_extension": ".py",
   "mimetype": "text/x-python",
   "name": "python",
   "nbconvert_exporter": "python",
   "pygments_lexer": "ipython3",
   "version": "3.10.12"
  }
 },
 "nbformat": 4,
 "nbformat_minor": 2
}
