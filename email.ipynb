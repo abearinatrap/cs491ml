{
 "cells": [
  {
   "cell_type": "code",
   "execution_count": 1,
   "metadata": {},
   "outputs": [
    {
     "name": "stderr",
     "output_type": "stream",
     "text": [
      "2023-11-23 02:32:18.511705: E external/local_xla/xla/stream_executor/cuda/cuda_dnn.cc:9261] Unable to register cuDNN factory: Attempting to register factory for plugin cuDNN when one has already been registered\n",
      "2023-11-23 02:32:18.511735: E external/local_xla/xla/stream_executor/cuda/cuda_fft.cc:607] Unable to register cuFFT factory: Attempting to register factory for plugin cuFFT when one has already been registered\n",
      "2023-11-23 02:32:18.512777: E external/local_xla/xla/stream_executor/cuda/cuda_blas.cc:1515] Unable to register cuBLAS factory: Attempting to register factory for plugin cuBLAS when one has already been registered\n",
      "2023-11-23 02:32:18.518896: I tensorflow/core/platform/cpu_feature_guard.cc:182] This TensorFlow binary is optimized to use available CPU instructions in performance-critical operations.\n",
      "To enable the following instructions: AVX2 AVX512F FMA, in other operations, rebuild TensorFlow with the appropriate compiler flags.\n",
      "2023-11-23 02:32:19.154469: W tensorflow/compiler/tf2tensorrt/utils/py_utils.cc:38] TF-TRT Warning: Could not find TensorRT\n"
     ]
    },
    {
     "data": {
      "text/plain": [
       "131072"
      ]
     },
     "execution_count": 1,
     "metadata": {},
     "output_type": "execute_result"
    }
   ],
   "source": [
    "import csv\n",
    "import numpy as np\n",
    "import pandas as pd\n",
    "from sklearn.model_selection import train_test_split\n",
    "from sklearn.feature_extraction.text import TfidfVectorizer\n",
    "from sklearn.preprocessing import LabelEncoder\n",
    "from scipy.sparse import save_npz\n",
    "from tensorflow.keras import layers, models\n",
    "from tensorflow.keras.callbacks import Callback\n",
    "from tensorflow.keras.models import Sequential\n",
    "from tensorflow.keras.layers import Dense\n",
    "import tensorflow as tf\n",
    "CUDA_VISIBLE_DEVICES=\"\"\n",
    "tf.config.run_functions_eagerly(True)\n",
    "\n",
    "\n",
    "csv.field_size_limit(100000000)"
   ]
  },
  {
   "cell_type": "code",
   "execution_count": 2,
   "metadata": {},
   "outputs": [
    {
     "name": "stdout",
     "output_type": "stream",
     "text": [
      "18650\n"
     ]
    }
   ],
   "source": [
    "def parse_csv(filename):\n",
    "    data = []\n",
    "    with open(filename, newline='', encoding='utf-8') as csvfile:\n",
    "        reader = csv.reader(csvfile, delimiter=',', quotechar='\"')\n",
    "        next(reader)  # Skip the header row\n",
    "        for row in reader:\n",
    "            email_text = row[1].replace('\"\"', '\"')  # Replace double double quotes with a single quote\n",
    "            email_type = 0 if row[2]==\"Safe Email\" else 1\n",
    "            data.append({'Email Text': email_text, 'Email Type': email_type})\n",
    "\n",
    "    data = pd.DataFrame(data)\n",
    "    return data\n",
    "\n",
    "# Example usage\n",
    "filename = 'data/Phishing_Email.csv'\n",
    "parsed_data = parse_csv(filename)\n",
    "\n",
    "print(len(parsed_data))\n"
   ]
  },
  {
   "cell_type": "code",
   "execution_count": 8,
   "metadata": {},
   "outputs": [
    {
     "data": {
      "text/plain": [
       "Email Text    re : 6 . 1100 , disc : uniformitarianism , re ...\n",
       "Email Type                                                    0\n",
       "Name: 0, dtype: object"
      ]
     },
     "execution_count": 8,
     "metadata": {},
     "output_type": "execute_result"
    }
   ],
   "source": [
    "parsed_data.iloc[0]"
   ]
  },
  {
   "cell_type": "code",
   "execution_count": 29,
   "metadata": {},
   "outputs": [],
   "source": [
    "X = parsed_data['Email Text'].astype(str)\n",
    "y = parsed_data['Email Type'].to_numpy()\n",
    "\n",
    "\n",
    "X_train, X_test, y_train, y_test = train_test_split(X, y, test_size=0.2, random_state=42)\n",
    "tfidf_vectorizer = TfidfVectorizer(stop_words='english', max_features=5000)\n",
    "X_train_tfidf = tfidf_vectorizer.fit_transform(X_train)\n",
    "X_test_tfidf = tfidf_vectorizer.transform(X_test)"
   ]
  },
  {
   "cell_type": "code",
   "execution_count": 30,
   "metadata": {},
   "outputs": [],
   "source": [
    "# Save the TF-IDF transformed data to a file\n",
    "save_npz('trained_weights/X_train_tfidf.npz', X_train_tfidf)\n",
    "save_npz('trained_weights/X_test_tfidf.npz', X_test_tfidf)\n",
    "np.save('trained_weights/y_train.npy', y_train)\n",
    "np.save('trained_weights/y_test.npy', y_test)"
   ]
  },
  {
   "cell_type": "code",
   "execution_count": 4,
   "metadata": {},
   "outputs": [],
   "source": [
    "from scipy.sparse import load_npz\n",
    "\n",
    "loaded_X_train_tfidf = load_npz('trained_weights/X_train_tfidf.npz')\n",
    "loaded_X_test_tfidf = load_npz('trained_weights/X_test_tfidf.npz')"
   ]
  },
  {
   "cell_type": "code",
   "execution_count": 4,
   "metadata": {},
   "outputs": [
    {
     "name": "stdout",
     "output_type": "stream",
     "text": [
      "\n",
      "Top 10 features based on average TF-IDF values:\n",
      "com: 0.030139118236201953\n",
      "http: 0.028007689681069547\n",
      "enron: 0.021340140625526867\n",
      "www: 0.019524336890116338\n",
      "ect: 0.01662853034408202\n",
      "list: 0.016306305098285113\n",
      "linux: 0.015944428273739174\n",
      "click: 0.01570476661884602\n",
      "email: 0.015527566554499042\n",
      "net: 0.014617029332719038\n"
     ]
    }
   ],
   "source": [
    "feature_names = tfidf_vectorizer.get_feature_names_out()\n",
    "avg_tfidf_values = X_train_tfidf.mean(axis=0).A1\n",
    "sorted_features = sorted(zip(feature_names, avg_tfidf_values), key=lambda x: x[1], reverse=True)\n",
    "\n",
    "# Print the top N features and their average TF-IDF values\n",
    "top_n = 10\n",
    "print(f\"\\nTop {top_n} features based on average TF-IDF values:\")\n",
    "for feature, avg_tfidf in sorted_features[:top_n]:\n",
    "    print(f\"{feature}: {avg_tfidf}\")"
   ]
  },
  {
   "cell_type": "code",
   "execution_count": 11,
   "metadata": {},
   "outputs": [
    {
     "name": "stdout",
     "output_type": "stream",
     "text": [
      "(14920, 300)\n",
      "14920\n",
      "(3730, 300)\n",
      "3730\n",
      "0\n",
      "0\n"
     ]
    }
   ],
   "source": [
    "print(X_train_tfidf.shape)\n",
    "print(len(y_train))\n",
    "print(X_test_tfidf.shape)\n",
    "print(len(y_test))\n",
    "print(y_train[0])\n",
    "print(y_train[2])"
   ]
  },
  {
   "cell_type": "code",
   "execution_count": 20,
   "metadata": {},
   "outputs": [
    {
     "name": "stdout",
     "output_type": "stream",
     "text": [
      "(14920, 300)\n",
      "(14920,)\n",
      "(14920, 300)\n",
      "<class 'numpy.ndarray'>\n",
      "<class 'numpy.ndarray'>\n",
      "<class 'numpy.int32'>\n",
      "Model: \"sequential_14\"\n",
      "_________________________________________________________________\n",
      " Layer (type)                Output Shape              Param #   \n",
      "=================================================================\n",
      " dense_40 (Dense)            (None, 128)               38528     \n",
      "                                                                 \n",
      " dense_41 (Dense)            (None, 128)               16512     \n",
      "                                                                 \n",
      " dense_42 (Dense)            (None, 128)               16512     \n",
      "                                                                 \n",
      " dense_43 (Dense)            (None, 1)                 129       \n",
      "                                                                 \n",
      "=================================================================\n",
      "Total params: 71681 (280.00 KB)\n",
      "Trainable params: 71681 (280.00 KB)\n",
      "Non-trainable params: 0 (0.00 Byte)\n",
      "_________________________________________________________________\n",
      "None\n",
      "Epoch 1/10\n"
     ]
    },
    {
     "name": "stderr",
     "output_type": "stream",
     "text": [
      "2023-11-23 02:46:10.655099: W tensorflow/core/framework/op_kernel.cc:1827] UNKNOWN: JIT compilation failed.\n"
     ]
    },
    {
     "ename": "UnknownError",
     "evalue": "Exception encountered when calling layer 'dense_43' (type Dense).\n\n{{function_node __wrapped__Sigmoid_device_/job:localhost/replica:0/task:0/device:GPU:0}} JIT compilation failed. [Op:Sigmoid] name: \n\nCall arguments received by layer 'dense_43' (type Dense):\n  • inputs=tf.Tensor(shape=(64, 128), dtype=float32)",
     "output_type": "error",
     "traceback": [
      "\u001b[0;31m---------------------------------------------------------------------------\u001b[0m",
      "\u001b[0;31mUnknownError\u001b[0m                              Traceback (most recent call last)",
      "\u001b[1;32m/home/andrew/dev/cs491ml/email.ipynb Cell 9\u001b[0m line \u001b[0;36m3\n\u001b[1;32m     <a href='vscode-notebook-cell://ssh-remote%2Bandrew@dscl_pop/home/andrew/dev/cs491ml/email.ipynb#X11sdnNjb2RlLXJlbW90ZQ%3D%3D?line=27'>28</a>\u001b[0m \u001b[39mprint\u001b[39m(model\u001b[39m.\u001b[39msummary())\n\u001b[1;32m     <a href='vscode-notebook-cell://ssh-remote%2Bandrew@dscl_pop/home/andrew/dev/cs491ml/email.ipynb#X11sdnNjb2RlLXJlbW90ZQ%3D%3D?line=29'>30</a>\u001b[0m \u001b[39m# Train the model\u001b[39;00m\n\u001b[0;32m---> <a href='vscode-notebook-cell://ssh-remote%2Bandrew@dscl_pop/home/andrew/dev/cs491ml/email.ipynb#X11sdnNjb2RlLXJlbW90ZQ%3D%3D?line=30'>31</a>\u001b[0m model\u001b[39m.\u001b[39;49mfit(X_train_tfidf_train, y_train, epochs\u001b[39m=\u001b[39;49m\u001b[39m10\u001b[39;49m, batch_size\u001b[39m=\u001b[39;49m\u001b[39m64\u001b[39;49m, validation_data\u001b[39m=\u001b[39;49m(X_test_tfidf_train, y_test))\n",
      "File \u001b[0;32m~/dev/cs491ml/venv/lib/python3.10/site-packages/keras/src/utils/traceback_utils.py:70\u001b[0m, in \u001b[0;36mfilter_traceback.<locals>.error_handler\u001b[0;34m(*args, **kwargs)\u001b[0m\n\u001b[1;32m     67\u001b[0m     filtered_tb \u001b[39m=\u001b[39m _process_traceback_frames(e\u001b[39m.\u001b[39m__traceback__)\n\u001b[1;32m     68\u001b[0m     \u001b[39m# To get the full stack trace, call:\u001b[39;00m\n\u001b[1;32m     69\u001b[0m     \u001b[39m# `tf.debugging.disable_traceback_filtering()`\u001b[39;00m\n\u001b[0;32m---> 70\u001b[0m     \u001b[39mraise\u001b[39;00m e\u001b[39m.\u001b[39mwith_traceback(filtered_tb) \u001b[39mfrom\u001b[39;00m \u001b[39mNone\u001b[39;00m\n\u001b[1;32m     71\u001b[0m \u001b[39mfinally\u001b[39;00m:\n\u001b[1;32m     72\u001b[0m     \u001b[39mdel\u001b[39;00m filtered_tb\n",
      "File \u001b[0;32m~/dev/cs491ml/venv/lib/python3.10/site-packages/keras/src/backend.py:5915\u001b[0m, in \u001b[0;36msigmoid\u001b[0;34m(x)\u001b[0m\n\u001b[1;32m   5903\u001b[0m \u001b[39m@keras_export\u001b[39m(\u001b[39m\"\u001b[39m\u001b[39mkeras.backend.sigmoid\u001b[39m\u001b[39m\"\u001b[39m)\n\u001b[1;32m   5904\u001b[0m \u001b[39m@tf\u001b[39m\u001b[39m.\u001b[39m__internal__\u001b[39m.\u001b[39mdispatch\u001b[39m.\u001b[39madd_dispatch_support\n\u001b[1;32m   5905\u001b[0m \u001b[39m@doc_controls\u001b[39m\u001b[39m.\u001b[39mdo_not_generate_docs\n\u001b[1;32m   5906\u001b[0m \u001b[39mdef\u001b[39;00m \u001b[39msigmoid\u001b[39m(x):\n\u001b[1;32m   5907\u001b[0m \u001b[39m    \u001b[39m\u001b[39m\"\"\"Element-wise sigmoid.\u001b[39;00m\n\u001b[1;32m   5908\u001b[0m \n\u001b[1;32m   5909\u001b[0m \u001b[39m    Args:\u001b[39;00m\n\u001b[0;32m   (...)\u001b[0m\n\u001b[1;32m   5913\u001b[0m \u001b[39m        A tensor.\u001b[39;00m\n\u001b[1;32m   5914\u001b[0m \u001b[39m    \"\"\"\u001b[39;00m\n\u001b[0;32m-> 5915\u001b[0m     output \u001b[39m=\u001b[39m tf\u001b[39m.\u001b[39;49msigmoid(x)\n\u001b[1;32m   5916\u001b[0m     \u001b[39m# Cache the logits to use for crossentropy loss.\u001b[39;00m\n\u001b[1;32m   5917\u001b[0m     output\u001b[39m.\u001b[39m_keras_logits \u001b[39m=\u001b[39m x\n",
      "\u001b[0;31mUnknownError\u001b[0m: Exception encountered when calling layer 'dense_43' (type Dense).\n\n{{function_node __wrapped__Sigmoid_device_/job:localhost/replica:0/task:0/device:GPU:0}} JIT compilation failed. [Op:Sigmoid] name: \n\nCall arguments received by layer 'dense_43' (type Dense):\n  • inputs=tf.Tensor(shape=(64, 128), dtype=float32)"
     ]
    }
   ],
   "source": [
    "X_train_tfidf_train = X_train_tfidf.toarray()\n",
    "#X_train_tfidf_train = X_train_tfidf.toarray().reshape((X_train_tfidf.shape[0], X_train_tfidf.shape[1], 1))\n",
    "X_test_tfidf_train = X_test_tfidf.toarray()\n",
    "#X_test_tfidf_train = X_test_tfidf.toarray().reshape((X_test_tfidf.shape[0], X_test_tfidf.shape[1], 1))\n",
    "\n",
    "\n",
    "print(X_train_tfidf_train.shape)\n",
    "print(y_train.shape)\n",
    "print(X_train_tfidf.toarray().shape)\n",
    "\n",
    "print(type(X_train_tfidf_train))\n",
    "print(type(y_train))\n",
    "print(type(y_train[0]))\n",
    "X_train_tfidf_train.astype('float64')\n",
    "\n",
    "y_train = y_train.astype('int32')\n",
    "y_test = y_test.astype('int32')\n",
    "\n",
    "# Build a fully connected feedforward neural network\n",
    "model = Sequential()\n",
    "model.add(Dense(128, input_shape=(X_train_tfidf_train.shape[1],), activation='relu'))\n",
    "model.add(Dense(128, activation='relu'))\n",
    "model.add(Dense(128, activation='relu'))\n",
    "model.add(Dense(1, activation='sigmoid'))  # Assuming binary classification, adjust for your task\n",
    "\n",
    "# Compile the model\n",
    "model.compile(optimizer='adam', loss='binary_crossentropy', metrics=['accuracy'])\n",
    "print(model.summary())\n",
    "\n",
    "# Train the model\n",
    "model.fit(X_train_tfidf_train, y_train, epochs=10, batch_size=64, validation_data=(X_test_tfidf_train, y_test))"
   ]
  },
  {
   "cell_type": "code",
   "execution_count": null,
   "metadata": {},
   "outputs": [],
   "source": [
    "# Build the CNN model\n",
    "model = models.Sequential()\n",
    "model.add(layers.Conv1D(32, 3, activation='relu', input_shape=(5000, 1)))\n",
    "model.add(layers.MaxPooling1D(2))\n",
    "model.add(layers.Flatten())\n",
    "model.add(layers.Dense(64, activation='relu'))\n",
    "model.add(layers.Dense(1, activation='sigmoid'))  # Change to sigmoid for binary classification\n",
    "\n",
    "# Compile the model\n",
    "model.compile(optimizer='adam', loss='binary_crossentropy', metrics=['accuracy'])\n",
    "print(model.summary())\n",
    "\n",
    "# Define a custom callback to print intermediate outputs\n",
    "class IntermediateOutputCallback(Callback):\n",
    "    def __init__(self, layer_names):\n",
    "        super(IntermediateOutputCallback, self).__init__()\n",
    "        self.layer_names = layer_names\n",
    "\n",
    "    def on_epoch_end(self, epoch, logs=None):\n",
    "        intermediate_layer_models = [tf.keras.Model(inputs=model.input, outputs=model.get_layer(name).output) for name in self.layer_names]\n",
    "\n",
    "        for i, name in enumerate(self.layer_names):\n",
    "            intermediate_output = intermediate_layer_models[i].predict(X_train_tfidf)\n",
    "            print(f\"Intermediate Output of Layer '{name}' during epoch {epoch + 1}: {intermediate_output}\")\n",
    "\n",
    "# Instantiate the callback with the names of layers for which you want to inspect outputs\n",
    "callback = IntermediateOutputCallback(layer_names=['conv1d', 'dense36'])\n",
    "\n",
    "#print(type(X_test_tfidf_train))\n",
    "\n",
    "# Train the model with the custom callback\n",
    "model.fit(X_train_tfidf_train, y_train, epochs=5, batch_size=64, validation_split=0.2, callbacks=[callback])\n",
    "\n",
    "# Train the model\n",
    "#model.fit(X_train_tfidf_train, y_train, epochs=5, batch_size=64, validation_split=0.2)\n",
    "\n",
    "# Evaluate the model\n",
    "test_loss, test_acc = model.evaluate(X_test_tfidf_train, y_test)\n",
    "print(f'Test accuracy: {test_acc}')"
   ]
  }
 ],
 "metadata": {
  "kernelspec": {
   "display_name": "venv",
   "language": "python",
   "name": "python3"
  },
  "language_info": {
   "codemirror_mode": {
    "name": "ipython",
    "version": 3
   },
   "file_extension": ".py",
   "mimetype": "text/x-python",
   "name": "python",
   "nbconvert_exporter": "python",
   "pygments_lexer": "ipython3",
   "version": "3.10.12"
  }
 },
 "nbformat": 4,
 "nbformat_minor": 2
}
