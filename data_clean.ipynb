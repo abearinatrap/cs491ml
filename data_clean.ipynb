{
 "cells": [
  {
   "cell_type": "code",
   "execution_count": 4,
   "metadata": {},
   "outputs": [],
   "source": [
    "import numpy as np\n",
    "import pandas as pd\n",
    "import re"
   ]
  },
  {
   "cell_type": "code",
   "execution_count": 8,
   "metadata": {},
   "outputs": [
    {
     "name": "stdout",
     "output_type": "stream",
     "text": [
      "Protocol: https\n",
      "Domain: test.co.uk\n",
      "Directory: \n",
      "File: None\n",
      "Parameters: ?help=1\n"
     ]
    }
   ],
   "source": [
    "url_regex = \"^(https?|ftp):\\/\\/([^\\/]+)\\/(([^\\/?]+\\/)*)?([^\\/?]+\\.\\w+)?(\\?([^=]+=[^&]+)(&([^=]+=[^&]+))*)?$\"\n",
    "url = \"https://test.co.uk/?help=1\"\n",
    "match = re.match(url_regex, url)\n",
    "\n",
    "def extract_urls_from_email(email_content):\n",
    "    # Regex to match URLs\n",
    "    url_pattern = r\"http[s]?://(?:[a-zA-Z]|[0-9]|[$-_@.&+]|[!*\\\\(\\\\),]|(?:%[0-9a-fA-F][0-9a-fA-F]))+\"\n",
    "\n",
    "    # Find all URLs in the email content\n",
    "    urls = re.findall(url_pattern, email_content)\n",
    "    return urls\n",
    "\n",
    "if match:\n",
    "    protocol = match.group(1)\n",
    "    domain = match.group(2)\n",
    "    directory = match.group(3) if match.group(3) else \"\"  # Handle optional directory\n",
    "    file = match.group(4) if match.group(4) else \"\"\n",
    "    parameters = match.group(6) if match.group(6) else \"\"  # Handle optional parameters\n",
    "\n",
    "    print(\"Protocol:\", protocol)\n",
    "    print(\"Domain:\", domain)\n",
    "    print(\"Directory:\", directory)\n",
    "    print(\"File:\", file)\n",
    "    print(\"Parameters:\", parameters)"
   ]
  }
 ],
 "metadata": {
  "kernelspec": {
   "display_name": "venv",
   "language": "python",
   "name": "python3"
  },
  "language_info": {
   "codemirror_mode": {
    "name": "ipython",
    "version": 3
   },
   "file_extension": ".py",
   "mimetype": "text/x-python",
   "name": "python",
   "nbconvert_exporter": "python",
   "pygments_lexer": "ipython3",
   "version": "3.10.10"
  },
  "orig_nbformat": 4
 },
 "nbformat": 4,
 "nbformat_minor": 2
}
