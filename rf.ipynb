{
 "cells": [
  {
   "cell_type": "code",
   "execution_count": 1,
   "metadata": {},
   "outputs": [],
   "source": [
    "import numpy as np\n",
    "from sklearn.model_selection import train_test_split\n",
    "from sklearn.ensemble import RandomForestClassifier\n",
    "from sklearn.metrics import f1_score\n",
    "import joblib\n",
    "import datetime"
   ]
  },
  {
   "cell_type": "code",
   "execution_count": 2,
   "metadata": {},
   "outputs": [
    {
     "name": "stdout",
     "output_type": "stream",
     "text": [
      "(8928, 45)\n",
      "(2233,)\n",
      "F1 Score: 0.9675023212627669\n"
     ]
    }
   ],
   "source": [
    "\n",
    "DATA_STORED = \"website_data_more.npy\"\n",
    "data_array = np.load(DATA_STORED)\n",
    "\n",
    "features = data_array[:,:-1]\n",
    "labels = data_array[:,-1]\n",
    "\n",
    "# Split the data into training and testing sets\n",
    "features_train, features_test, labels_train, labels_test = train_test_split(\n",
    "    features, labels, test_size=0.2, random_state=42)\n",
    "\n",
    "print(features_train.shape)\n",
    "\n",
    "# Train the Random Forest classifier\n",
    "random_forest = RandomForestClassifier(n_estimators=100, random_state=42)\n",
    "random_forest.fit(features_train, labels_train)\n",
    "\n",
    "# Predict on the test set\n",
    "predictions = random_forest.predict(features_test)\n",
    "print(predictions.shape)\n",
    "\n",
    "# Compute F1 score\n",
    "f1 = f1_score(labels_test, predictions)\n",
    "\n",
    "print(\"F1 Score:\", f1)"
   ]
  },
  {
   "cell_type": "code",
   "execution_count": 3,
   "metadata": {},
   "outputs": [
    {
     "name": "stdout",
     "output_type": "stream",
     "text": [
      "File will be saved under 'trained_weights' folder\n",
      "Model saved successfully at: trained_weights/rf/scn_.pkl\n"
     ]
    }
   ],
   "source": [
    "save_input = input(\"Save file? (y/n)\")\n",
    "while save_input != \"y\" and save_input != \"n\":\n",
    "    save_input = input(\"Save file? (y/n)\")\n",
    "if save_input == \"y\":\n",
    "    print(\"File will be saved under 'trained_weights' folder\")\n",
    "    model_path = input(\"Filename to save (****.pkl) \")\n",
    "    if model_path == \"\":\n",
    "        model_path = 'z_{}.pkl'.format(str(datetime.datetime.now()))\n",
    "    else:\n",
    "        model_path = '{}.pkl'.format(model_path)\n",
    "    save_path = '{}/{}'.format(\"trained_weights/rf\", model_path)\n",
    "    joblib.dump(random_forest, save_path)\n",
    "    print(\"Model saved successfully at:\", save_path)"
   ]
  }
 ],
 "metadata": {
  "kernelspec": {
   "display_name": "venv",
   "language": "python",
   "name": "python3"
  },
  "language_info": {
   "codemirror_mode": {
    "name": "ipython",
    "version": 3
   },
   "file_extension": ".py",
   "mimetype": "text/x-python",
   "name": "python",
   "nbconvert_exporter": "python",
   "pygments_lexer": "ipython3",
   "version": "3.10.12"
  }
 },
 "nbformat": 4,
 "nbformat_minor": 2
}
